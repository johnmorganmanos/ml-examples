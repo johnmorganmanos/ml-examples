{
 "cells": [
  {
   "cell_type": "code",
   "execution_count": 1,
   "id": "96802d24",
   "metadata": {},
   "outputs": [],
   "source": [
    "from tensorflow.keras.layers import LSTM\n",
    "from tensorflow.keras.layers import Input\n",
    "from tensorflow.keras import Model\n",
    "import numpy as np"
   ]
  },
  {
   "cell_type": "code",
   "execution_count": 17,
   "id": "0e0d7e1d",
   "metadata": {},
   "outputs": [
    {
     "name": "stdout",
     "output_type": "stream",
     "text": [
      "Model: \"model_2\"\n",
      "_________________________________________________________________\n",
      "Layer (type)                 Output Shape              Param #   \n",
      "=================================================================\n",
      "input_3 (InputLayer)         [(None, 5, 1)]            0         \n",
      "_________________________________________________________________\n",
      "lstm_2 (LSTM)                (None, 2)                 32        \n",
      "=================================================================\n",
      "Total params: 32\n",
      "Trainable params: 32\n",
      "Non-trainable params: 0\n",
      "_________________________________________________________________\n",
      "None\n"
     ]
    }
   ],
   "source": [
    "input_t = Input((5, 1))\n",
    "units = 2\n",
    "output_t = LSTM(units)(input_t)\n",
    "model = Model(inputs=input_t, outputs=output_t)\n",
    "print(model.summary())"
   ]
  },
  {
   "cell_type": "code",
   "execution_count": 18,
   "id": "90107e6e",
   "metadata": {},
   "outputs": [
    {
     "data": {
      "text/plain": [
       "array([[-0.06777562, -0.04347884]], dtype=float32)"
      ]
     },
     "execution_count": 18,
     "metadata": {},
     "output_type": "execute_result"
    }
   ],
   "source": [
    "example_input = np.array([[[1],[2],[3],[4],[5]]])\n",
    "model.predict(example_input)"
   ]
  },
  {
   "cell_type": "markdown",
   "id": "20f72379",
   "metadata": {},
   "source": [
    "Each LSTM gate follows an equation of the form,\n",
    "\n",
    "$i_t = \\sigma(W_i x_t + U_i h_{t-i} + b_i)$\n",
    "\n",
    "References:\n",
    "\n",
    "https://web.archive.org/web/20201109035427/http://deeplearning.net/tutorial/lstm.html\n",
    "https://stackoverflow.com/questions/42861460/how-to-interpret-weights-in-a-lstm-layer-in-keras"
   ]
  },
  {
   "cell_type": "code",
   "execution_count": 19,
   "id": "4abd94ff",
   "metadata": {},
   "outputs": [],
   "source": [
    "W = model.get_weights()[0]\n",
    "U = model.get_weights()[1]\n",
    "b = model.get_weights()[2]"
   ]
  },
  {
   "cell_type": "code",
   "execution_count": 20,
   "id": "9b5b062f",
   "metadata": {},
   "outputs": [],
   "source": [
    "W_i = W[:, :units]\n",
    "W_f = W[:, units: units * 2]\n",
    "W_c = W[:, units * 2: units * 3]\n",
    "W_o = W[:, units * 3:]\n",
    "\n",
    "U_i = U[:, :units]\n",
    "U_f = U[:, units: units * 2]\n",
    "U_c = U[:, units * 2: units * 3]\n",
    "U_o = U[:, units * 3:]\n",
    "\n",
    "b_i = b[:units]\n",
    "b_f = b[units: units * 2]\n",
    "b_c = b[units * 2: units * 3]\n",
    "b_o = b[units * 3:]"
   ]
  },
  {
   "cell_type": "code",
   "execution_count": 21,
   "id": "fbcad359",
   "metadata": {},
   "outputs": [
    {
     "data": {
      "text/plain": [
       "array([[-0.4105382 ,  0.04599655]], dtype=float32)"
      ]
     },
     "execution_count": 21,
     "metadata": {},
     "output_type": "execute_result"
    }
   ],
   "source": [
    "W_i"
   ]
  },
  {
   "cell_type": "code",
   "execution_count": null,
   "id": "c6c5c0cc",
   "metadata": {},
   "outputs": [],
   "source": []
  }
 ],
 "metadata": {
  "kernelspec": {
   "display_name": "Python 3 (ipykernel)",
   "language": "python",
   "name": "python3"
  },
  "language_info": {
   "codemirror_mode": {
    "name": "ipython",
    "version": 3
   },
   "file_extension": ".py",
   "mimetype": "text/x-python",
   "name": "python",
   "nbconvert_exporter": "python",
   "pygments_lexer": "ipython3",
   "version": "3.8.12"
  }
 },
 "nbformat": 4,
 "nbformat_minor": 5
}
